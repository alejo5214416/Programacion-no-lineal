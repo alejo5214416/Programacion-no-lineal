{
 "cells": [
  {
   "cell_type": "markdown",
   "metadata": {},
   "source": [
    "# PROBLEMA DE PROGRAMACION NO LINEAL"
   ]
  },
  {
   "cell_type": "markdown",
   "metadata": {},
   "source": [
    "- **Autores:** Johan Sebastian Peña, Sergio Meza Zapata, Hader Castañeda, Alejandro Giraldo Martinez\n",
    "- **Fecha:** 16/05/2018\n",
    "- **Universidad:** Universidad Autónoma de Manizales"
   ]
  },
  {
   "cell_type": "markdown",
   "metadata": {},
   "source": [
    "## Introduccion"
   ]
  },
  {
   "cell_type": "markdown",
   "metadata": {},
   "source": [
    "En el presente documento se demuestra mediante un ejemplo particular, el desarrollo y solución de un Problema de Programación NO Lineal.\n",
    "\n",
    "Por definición tenemos que un PNL es el proceso de resolución de un sistema de igualdades o desigualdades sujetas a restricciones sobre un conjunto de variables reales desconocidas, con una funcion objetivo a maximizar o minimizar, cuando alguna de las restricciones o la función objetivo **no son lineales**."
   ]
  },
  {
   "cell_type": "markdown",
   "metadata": {},
   "source": [
    "## Caracteristicas"
   ]
  },
  {
   "cell_type": "markdown",
   "metadata": {},
   "source": [
    "- Los problemas de programacion no lineal, tambien son llamados curvilineos, ya que el área que delimita las soluciones factibles en un gráfico se presenta en forma de curva.\n",
    "\n",
    "- Los problemas no lineales se caracterizan por tener relaciones no lineales, es decir, no existe una relación directa y proporcional entre las variables que intervienen."
   ]
  },
  {
   "cell_type": "markdown",
   "metadata": {},
   "source": [
    "## Ejemplo"
   ]
  },
  {
   "cell_type": "markdown",
   "metadata": {},
   "source": [
    "Se requiere cortar y decorar un espejo rectangular de area 40dm$^2$.\n",
    "\n",
    "Si los adornos a lo largo de los lados horizontales cuestan 16 centavos por decimetro y los de los lados verticales cuestan 25 centavos por decimetro, ¿Cuáles son las dimensiones que **minimizan** el costo total?"
   ]
  },
  {
   "cell_type": "code",
   "execution_count": 2,
   "metadata": {
    "collapsed": false
   },
   "outputs": [
    {
     "name": "stdout",
     "output_type": "stream",
     "text": [
      "Populating the interactive namespace from numpy and matplotlib\n"
     ]
    },
    {
     "data": {
      "text/plain": [
       "<matplotlib.image.AxesImage at 0x2d0e7f22e8>"
      ]
     },
     "execution_count": 2,
     "metadata": {},
     "output_type": "execute_result"
    },
    {
     "data": {
      "image/png": "[encoded data removed]",
      "text/plain": [
       "<matplotlib.figure.Figure at 0x2d090065c0>"
      ]
     },
     "metadata": {},
     "output_type": "display_data"
    }
   ],
   "source": [
    "import skimage\n",
    "%pylab inline  \n",
    "import skimage.io as skio\n",
    "\n",
    "image = skio.imread('figura1.jpg')\n",
    "plt.imshow(image)"
   ]
  },
  {
   "cell_type": "markdown",
   "metadata": {},
   "source": [
    "### Funcion objetivo"
   ]
  },
  {
   "cell_type": "markdown",
   "metadata": {},
   "source": [
    "La función Objetivo está determinada para **MINIMIZAR EL COSTO**"
   ]
  },
  {
   "cell_type": "markdown",
   "metadata": {},
   "source": [
    "Min(costo) = $(2x)*16+(2y)*25$\n",
    "\n",
    "Min(costo) = $32x+50y$"
   ]
  },
  {
   "cell_type": "markdown",
   "metadata": {},
   "source": [
    "Se reescribe la función objetivo como se acostumbra en el metodo de multiplicadores de Lagrange:\n",
    "\n",
    "$$f(x,y)=32x+50y$$"
   ]
  },
  {
   "cell_type": "markdown",
   "metadata": {},
   "source": [
    "### Restricción"
   ]
  },
  {
   "cell_type": "markdown",
   "metadata": {},
   "source": [
    "- Por ser x,y medidas del rectangulo: $$x,y\\geq 0$$\n",
    "- La restricción está dada por el área del espejo                      \n",
    "\n",
    "$xy=40$\n",
    "\n",
    "Por el método de los multiplicadores se acostumbra a tener la restriccion igualada a 0, por lo tanto:\n",
    "\n",
    "$xy-40=0$  \n",
    "\n",
    "reescribimos:\n",
    "\n",
    "$$g(x,y)=xy-40$$\n"
   ]
  },
  {
   "cell_type": "markdown",
   "metadata": {},
   "source": [
    "El metodo de multiplicadores de Lagrange porpone:\n",
    "\n",
    "$$\\bigtriangledown \\overrightarrow{f}=\\lambda \\bigtriangledown \\overrightarrow{g}$$"
   ]
  },
  {
   "cell_type": "markdown",
   "metadata": {},
   "source": [
    "Tenemos que:\n",
    "$$(fx,fy)=\\lambda (gx,gy)$$\n",
    "\n",
    "$$(fx,fy)=(\\lambda gx,\\lambda gy)$$"
   ]
  },
  {
   "cell_type": "markdown",
   "metadata": {},
   "source": [
    "Igualamos vectores y despejamos $\\lambda$\n",
    "\n",
    "#### $$fx=\\lambda gx \\Longleftrightarrow fy=\\lambda gy$$\n",
    "#### $$\\lambda = \\frac{fx}{gx} \\Longleftrightarrow \\lambda = \\frac{fy}{gy}$$\n",
    "\n",
    "Igualando las dos expresiones\n",
    "\n",
    "\n",
    "#### $$\\frac{fx}{gx} = \\frac{fy}{gy}$$\n"
   ]
  },
  {
   "cell_type": "markdown",
   "metadata": {},
   "source": [
    "- Se realizan las derivadas parciales de cada una de las funciones"
   ]
  },
  {
   "cell_type": "markdown",
   "metadata": {},
   "source": [
    "- $f(x,y)=32x+50y$\n",
    "\n",
    "\n",
    "$$\\frac{\\partial}{\\partial x} f(x,y) = 32$$\n",
    "\n",
    "$$\\frac{\\partial}{\\partial y} f(x,y) = 50$$\n",
    "\n",
    "\n",
    "- $g(x,y)=xy-40$\n",
    "$$\\frac{\\partial}{\\partial x} g(x,y) = y$$\n",
    "\n",
    "$$\\frac{\\partial}{\\partial y} g(x,y) = x$$"
   ]
  },
  {
   "cell_type": "markdown",
   "metadata": {},
   "source": [
    "Reemplazamos las derivadas parciales en la relacion anterior:\n",
    "\n",
    "$$\\frac{32}{y} = \\frac{50}{x}$$\n",
    "\n",
    "$$32x=50y$$\n",
    "\n",
    "Simplificando:\n",
    "### $$16x=25y \\Longrightarrow Ecuac. 1$$ "
   ]
  },
  {
   "cell_type": "markdown",
   "metadata": {},
   "source": [
    "Retomando la Restriccion, tenemos la ecuacion 2 y conformamos un sistema de ecuaciones:\n",
    "\n",
    "### $$xy=40 \\Longrightarrow  Ecuac. 2$$"
   ]
  },
  {
   "cell_type": "markdown",
   "metadata": {},
   "source": [
    "De la Ecuacion 1 despejamos X:\n",
    "\n",
    " $$x=\\frac{25y}{16} \\Longrightarrow Ecuac. 3$$\n",
    " \n",
    "Sustituimos 3 en 2 y despejamos y:\n",
    "\n",
    "$$\\frac{25y}{16} * y = 40$$\n",
    "\n",
    "$$\\frac{25y^2}{16}=40$$\n",
    "\n",
    "$$y^2=\\frac{(40)(16)}{25}$$\n",
    "\n",
    "$$y^2=\\frac{128}{5}$$\n",
    "\n",
    "$$y=\\sqrt{\\frac{128}{5}}$$\n",
    "\n",
    "# $$y=5.059dm$$"
   ]
  },
  {
   "cell_type": "markdown",
   "metadata": {},
   "source": [
    "Reemplazando y en la ecuacion 3:\n",
    "$$x=\\frac{25(5.059)}{16}$$\n",
    "\n",
    "# $$x=7.91dm$$"
   ]
  },
  {
   "cell_type": "code",
   "execution_count": 18,
   "metadata": {
    "collapsed": true
   },
   "outputs": [],
   "source": [
    "x = 7.91"
   ]
  },
  {
   "cell_type": "code",
   "execution_count": 19,
   "metadata": {
    "collapsed": true
   },
   "outputs": [],
   "source": [
    "y = 5.059"
   ]
  },
  {
   "cell_type": "markdown",
   "metadata": {},
   "source": [
    "Teniendo los valores de x,y obtenemos el Minimo reemplazando en la función Objetivo "
   ]
  },
  {
   "cell_type": "code",
   "execution_count": 20,
   "metadata": {
    "collapsed": true
   },
   "outputs": [],
   "source": [
    "costo = 32*x + 50*y"
   ]
  },
  {
   "cell_type": "code",
   "execution_count": 21,
   "metadata": {
    "collapsed": false
   },
   "outputs": [
    {
     "data": {
      "text/plain": [
       "506.07000000000005"
      ]
     },
     "execution_count": 21,
     "metadata": {},
     "output_type": "execute_result"
    }
   ],
   "source": [
    "costo"
   ]
  },
  {
   "cell_type": "markdown",
   "metadata": {},
   "source": [
    "Finalmente tenemos que las dimensiones que minimizan el costo del espejo y que cumplen con las restricciones son:\n",
    "### 7.91 dm (Horizontal)  *  5.059 dm (Vertical) con un Costo minimo de 506.07 centavos"
   ]
  }
 ],
 "metadata": {
  "kernelspec": {
   "display_name": "Python 3",
   "language": "python",
   "name": "python3"
  },
  "language_info": {
   "codemirror_mode": {
    "name": "ipython",
    "version": 3
   },
   "file_extension": ".py",
   "mimetype": "text/x-python",
   "name": "python",
   "nbconvert_exporter": "python",
   "pygments_lexer": "ipython3",
   "version": "3.6.0"
  }
 },
 "nbformat": 4,
 "nbformat_minor": 2
}
